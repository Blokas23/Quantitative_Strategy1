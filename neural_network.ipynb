{
 "cells": [
  {
   "cell_type": "markdown",
   "metadata": {},
   "source": [
    "# Neural Network"
   ]
  },
  {
   "cell_type": "code",
   "execution_count": 1,
   "metadata": {},
   "outputs": [],
   "source": [
    "import warnings\n",
    "warnings.filterwarnings(\"ignore\")"
   ]
  },
  {
   "cell_type": "code",
   "execution_count": 16,
   "metadata": {},
   "outputs": [],
   "source": [
    "from pathlib import Path\n",
    "import cvxpy as cp\n",
    "import numpy as np\n",
    "import pandas as pd\n",
    "from statsmodels.regression.rolling import RollingOLS\n",
    "from sklearn.metrics import r2_score\n",
    "import quantstats as qs\n",
    "import matplotlib.pyplot as plt\n",
    "from tqdm import tqdm\n",
    "from tensorflow.keras.layers import Input, Dense, Dot, BatchNormalization\n",
    "from tensorflow.keras.models import Model\n",
    "from qs import calc_factor, calc_return\n",
    "from scipy.stats import spearmanr\n",
    "\n",
    "%config InlineBackend.figure_format = \"retina\""
   ]
  },
  {
   "cell_type": "code",
   "execution_count": 13,
   "metadata": {},
   "outputs": [],
   "source": [
    "class MultipleTimeSeriesCV:\n",
    "    \"\"\"Generates tuples of train_idx, test_idx pairs\n",
    "    Assumes the MultiIndex contains levels 'symbol' and 'date'\n",
    "    purges overlapping outcomes\"\"\"\n",
    "\n",
    "    def __init__(\n",
    "        self,\n",
    "        n_splits=3,\n",
    "        train_period_length=126,\n",
    "        test_period_length=21,\n",
    "        lookahead=0,\n",
    "        date_idx=\"date\",\n",
    "        shuffle=False,\n",
    "    ):\n",
    "        self.n_splits = n_splits\n",
    "        self.lookahead = lookahead\n",
    "        self.test_length = test_period_length\n",
    "        self.train_length = train_period_length\n",
    "        self.shuffle = shuffle\n",
    "        self.date_idx = date_idx\n",
    "\n",
    "    def split(self, X):\n",
    "        unique_dates = X.index.get_level_values(self.date_idx).unique()\n",
    "        days = sorted(unique_dates, reverse=True)\n",
    "        split_idx = []\n",
    "        for i in range(self.n_splits):\n",
    "            test_end_idx = i * self.test_length\n",
    "            test_start_idx = test_end_idx + self.test_length\n",
    "            train_end_idx = test_start_idx + self.lookahead - 1\n",
    "            train_start_idx = train_end_idx + self.train_length + self.lookahead - 1\n",
    "            split_idx.append(\n",
    "                [train_start_idx, train_end_idx, test_start_idx, test_end_idx]\n",
    "            )\n",
    "\n",
    "        dates = X.reset_index()[[self.date_idx]]\n",
    "        for train_start, train_end, test_start, test_end in split_idx:\n",
    "            train_idx = dates[\n",
    "                (dates[self.date_idx] > days[train_start])\n",
    "                & (dates[self.date_idx] <= days[train_end])\n",
    "            ].index\n",
    "            test_idx = dates[\n",
    "                (dates[self.date_idx] > days[test_start])\n",
    "                & (dates[self.date_idx] <= days[test_end])\n",
    "            ].index\n",
    "            if self.shuffle:\n",
    "                np.random.shuffle(list(train_idx))\n",
    "            yield train_idx.to_numpy(), test_idx.to_numpy()\n",
    "\n",
    "    def get_n_splits(self):\n",
    "        return self.n_splits\n"
   ]
  },
  {
   "cell_type": "code",
   "execution_count": 5,
   "metadata": {},
   "outputs": [],
   "source": [
    "crsp = pd.read_parquet(\"./data/crsp.parquet\")\n",
    "glb = pd.read_parquet(\"./data/glb.parquet\")\n",
    "mfis = pd.read_parquet(\"./data/mfis.parquet\")\n",
    "famafrench = pd.read_parquet(\"./data/famafrench.parquet\") \n",
    "optionmetrics = pd.read_parquet(\"./data/optionmetrics.parquet\")"
   ]
  },
  {
   "cell_type": "code",
   "execution_count": 6,
   "metadata": {},
   "outputs": [],
   "source": [
    "factor = calc_factor(crsp, famafrench, mfis, glb, \"W-FRI\")\n",
    "ret = calc_return(crsp, famafrench, \"W-FRI\")\n",
    "X = factor[\"2000-01-01\":\"2019-11-30\"].drop(columns=[\"logcap\", \"dolvol\", \"retvol\", \"mktrf_sq\", \"smb\", \"hml\", \"mfis_182\"])\n",
    "y = ret.groupby(\"permno\").shift(-1).loc[\"2000-01-01\":\"2019-11-30\"]"
   ]
  },
  {
   "cell_type": "code",
   "execution_count": 9,
   "metadata": {},
   "outputs": [],
   "source": [
    "X[\"ret\"] = ret"
   ]
  },
  {
   "cell_type": "code",
   "execution_count": 10,
   "metadata": {},
   "outputs": [],
   "source": [
    "def make_model(hidden_units, n_factors):\n",
    "    input_factor = Input((n_tickers,), name=\"input_factor\")\n",
    "    input_beta = Input((n_tickers, n_characteristics), name=\"input_beta\")\n",
    "    hidden_layer = Dense(units=hidden_units, activation=\"relu\", name=\"hidden_layer\")(\n",
    "        input_beta\n",
    "    )\n",
    "    batch_norm = BatchNormalization(name=\"batch_norm\")(hidden_layer)\n",
    "    output_beta = Dense(units=n_factors, name=\"output_beta\")(batch_norm)\n",
    "    output_factor = Dense(units=n_factors, name=\"output_factor\")(input_factor)\n",
    "    output = Dot(axes=(2, 1), name=\"output_layer\")([output_beta, output_factor])\n",
    "    model = Model(inputs=[input_beta, input_factor], outputs=output)\n",
    "    model.compile(loss=\"mse\", optimizer=\"adam\")\n",
    "    return model"
   ]
  },
  {
   "cell_type": "code",
   "execution_count": 11,
   "metadata": {},
   "outputs": [],
   "source": [
    "def get_train_valid_data(X, y, train_idx, val_idx):\n",
    "    X_train = X.iloc[train_idx]\n",
    "    X_val = X.iloc[val_idx]\n",
    "    X1_train = X_train.drop(columns=\"ret\").to_numpy().reshape(-1, n_tickers, n_characteristics)\n",
    "    X1_val = X_val.drop(columns=\"ret\").to_numpy().reshape(-1, n_tickers, n_characteristics)\n",
    "    X2_train = X_train.loc[:, \"ret\"].unstack(\"permno\")\n",
    "    X2_val = X_val.loc[:, \"ret\"].unstack(\"permno\")\n",
    "    y_train = y.iloc[train_idx].unstack(\"permno\")\n",
    "    y_val = y.iloc[val_idx].unstack(\"permno\")\n",
    "    return X1_train, X2_train, y_train, X1_val, X2_val, y_val"
   ]
  },
  {
   "cell_type": "code",
   "execution_count": 22,
   "metadata": {},
   "outputs": [],
   "source": [
    "n_characteristics = 19\n",
    "n_tickers = 50\n",
    "n_factors = 8\n",
    "units = 32\n",
    "batch_size = 32\n",
    "epoch = 100"
   ]
  },
  {
   "cell_type": "code",
   "execution_count": 23,
   "metadata": {},
   "outputs": [],
   "source": [
    "cv = MultipleTimeSeriesCV(n_splits=7, \n",
    "                          train_period_length=6*52,\n",
    "                          test_period_length=1*52)"
   ]
  },
  {
   "cell_type": "code",
   "execution_count": 24,
   "metadata": {},
   "outputs": [
    {
     "name": "stderr",
     "output_type": "stream",
     "text": [
      "2022-03-30 13:14:28.844509: I tensorflow/core/grappler/optimizers/custom_graph_optimizer_registry.cc:113] Plugin optimizer for device_type GPU is enabled.\n",
      "2022-03-30 13:14:37.040338: I tensorflow/core/grappler/optimizers/custom_graph_optimizer_registry.cc:113] Plugin optimizer for device_type GPU is enabled.\n",
      "2022-03-30 13:14:37.398803: I tensorflow/core/grappler/optimizers/custom_graph_optimizer_registry.cc:113] Plugin optimizer for device_type GPU is enabled.\n",
      "2022-03-30 13:14:45.460285: I tensorflow/core/grappler/optimizers/custom_graph_optimizer_registry.cc:113] Plugin optimizer for device_type GPU is enabled.\n",
      "2022-03-30 13:14:45.822195: I tensorflow/core/grappler/optimizers/custom_graph_optimizer_registry.cc:113] Plugin optimizer for device_type GPU is enabled.\n",
      "2022-03-30 13:14:54.016040: I tensorflow/core/grappler/optimizers/custom_graph_optimizer_registry.cc:113] Plugin optimizer for device_type GPU is enabled.\n",
      "2022-03-30 13:14:54.375503: I tensorflow/core/grappler/optimizers/custom_graph_optimizer_registry.cc:113] Plugin optimizer for device_type GPU is enabled.\n",
      "2022-03-30 13:15:02.577868: I tensorflow/core/grappler/optimizers/custom_graph_optimizer_registry.cc:113] Plugin optimizer for device_type GPU is enabled.\n",
      "2022-03-30 13:15:03.203316: I tensorflow/core/grappler/optimizers/custom_graph_optimizer_registry.cc:113] Plugin optimizer for device_type GPU is enabled.\n",
      "2022-03-30 13:15:11.214635: I tensorflow/core/grappler/optimizers/custom_graph_optimizer_registry.cc:113] Plugin optimizer for device_type GPU is enabled.\n",
      "2022-03-30 13:15:11.556785: I tensorflow/core/grappler/optimizers/custom_graph_optimizer_registry.cc:113] Plugin optimizer for device_type GPU is enabled.\n",
      "2022-03-30 13:15:19.509079: I tensorflow/core/grappler/optimizers/custom_graph_optimizer_registry.cc:113] Plugin optimizer for device_type GPU is enabled.\n",
      "2022-03-30 13:15:19.858506: I tensorflow/core/grappler/optimizers/custom_graph_optimizer_registry.cc:113] Plugin optimizer for device_type GPU is enabled.\n",
      "2022-03-30 13:15:27.822746: I tensorflow/core/grappler/optimizers/custom_graph_optimizer_registry.cc:113] Plugin optimizer for device_type GPU is enabled.\n"
     ]
    }
   ],
   "source": [
    "predictions = []\n",
    "for fold, (train_idx, val_idx) in enumerate(cv.split(X)):\n",
    "    X1_train, X2_train, y_train, X1_val, X2_val, y_val = get_train_valid_data(X, y, train_idx, val_idx)\n",
    "    model = make_model(n_factors=n_factors, hidden_units=units)\n",
    "    model.fit([X1_train, X2_train],\n",
    "        y_train,\n",
    "        batch_size=batch_size,\n",
    "        epochs=epoch,\n",
    "        verbose=0,\n",
    "        shuffle=True)\n",
    "    predictions.append(pd.Series(model.predict([X1_val, X2_val]).reshape(-1), index=y_val.stack().index))"
   ]
  },
  {
   "cell_type": "markdown",
   "metadata": {},
   "source": [
    "## Backtest"
   ]
  },
  {
   "cell_type": "code",
   "execution_count": 25,
   "metadata": {},
   "outputs": [
    {
     "name": "stdout",
     "output_type": "stream",
     "text": [
      "-1.4298204980272455 -0.015429885174217624\n"
     ]
    }
   ],
   "source": [
    "y_pred = pd.concat(predictions).sort_index()\n",
    "y_val = y[y_pred.index]\n",
    "print(r2_score(y_val, y_pred), spearmanr(y_val, y_pred).correlation)"
   ]
  }
 ],
 "metadata": {
  "interpreter": {
   "hash": "03ce9cb9443ebd8ed8bad8b9bb17b9cbf02598c3802a5b55426183e46e5fd3c1"
  },
  "kernelspec": {
   "display_name": "Python 3.9.10 ('quant')",
   "language": "python",
   "name": "python3"
  },
  "language_info": {
   "codemirror_mode": {
    "name": "ipython",
    "version": 3
   },
   "file_extension": ".py",
   "mimetype": "text/x-python",
   "name": "python",
   "nbconvert_exporter": "python",
   "pygments_lexer": "ipython3",
   "version": "3.9.10"
  },
  "orig_nbformat": 4
 },
 "nbformat": 4,
 "nbformat_minor": 2
}
